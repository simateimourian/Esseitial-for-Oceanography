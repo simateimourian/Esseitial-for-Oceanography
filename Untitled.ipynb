{
 "cells": [
  {
   "cell_type": "markdown",
   "id": "72126cc9-681a-482a-a0fc-b9327cf83a1b",
   "metadata": {},
   "source": [
    "portfolio\n",
    "This portfolio is a summary of my educational & career journey. I'm Sima, a learner who strives to live a meaningful life"
   ]
  },
  {
   "cell_type": "markdown",
   "id": "da893e07-8324-434e-aea6-0fe89a3763ee",
   "metadata": {},
   "source": [
    "About me\n",
    "I am a PhD candidate in Oceanography with a Master’s in Environmental Science. I have six years of experience with GIS and RS software, including ArcGIS Desktop & Pro, Google Earth Engine, and Global Mapper. Recently, I started learning R programming to enhance my environmental modeling skills. I am excited to begin a new programming journey with the SheCodes grant. I am motivated, eager to learn, and passionate about discovering new aspects of GIS , RS and environmental science."
   ]
  },
  {
   "cell_type": "markdown",
   "id": "82a540e1-f30e-4246-9ed3-795b75dec401",
   "metadata": {},
   "source": [
    "About me\n",
    "I am a PhD candidate in Oceanography with a Master’s in Environmental Science. I have six years of experience with GIS and RS software, including ArcGIS Desktop & Pro, Google Earth Engine, and Global Mapper. Recently, I started learning R programming to enhance my environmental modeling skills. I am excited to begin a new programming journey with the SheCodes grant. I am motivated, eager to learn, and passionate about discovering new aspects of GIS , RS and environmental science."
   ]
  }
 ],
 "metadata": {
  "kernelspec": {
   "display_name": "Python 3 (ipykernel)",
   "language": "python",
   "name": "python3"
  },
  "language_info": {
   "codemirror_mode": {
    "name": "ipython",
    "version": 3
   },
   "file_extension": ".py",
   "mimetype": "text/x-python",
   "name": "python",
   "nbconvert_exporter": "python",
   "pygments_lexer": "ipython3",
   "version": "3.12.3"
  }
 },
 "nbformat": 4,
 "nbformat_minor": 5
}
